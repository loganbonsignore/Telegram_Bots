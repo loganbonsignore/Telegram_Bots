{
 "cells": [
  {
   "cell_type": "code",
   "execution_count": 2,
   "metadata": {},
   "outputs": [],
   "source": [
    "import requests\n",
    "import json\n",
    "from pprint import pprint\n",
    "from config import TOKEN, DEV_CHANNEL_ID"
   ]
  },
  {
   "cell_type": "code",
   "execution_count": 3,
   "metadata": {},
   "outputs": [
    {
     "name": "stdout",
     "output_type": "stream",
     "text": [
      "{'ok': True,\n",
      " 'result': {'can_join_groups': True,\n",
      "            'can_read_all_group_messages': False,\n",
      "            'first_name': 'notification_bot',\n",
      "            'id': 1799270706,\n",
      "            'is_bot': True,\n",
      "            'supports_inline_queries': True,\n",
      "            'username': 'lsdkljfBot'}}\n"
     ]
    }
   ],
   "source": [
    "# https://api.telegram.org/bot<token>/METHOD_NAME\n",
    "\n",
    "# Get Bot parameters\n",
    "response = requests.post(f\"https://api.telegram.org/bot{TOKEN}/getMe\")\n",
    "pprint(json.loads(response.text))"
   ]
  },
  {
   "cell_type": "code",
   "execution_count": 4,
   "metadata": {},
   "outputs": [
    {
     "data": {
      "text/plain": [
       "'{\"ok\":true,\"result\":{\"message_id\":85,\"sender_chat\":{\"id\":-1001158947417,\"title\":\"dev_channel\",\"username\":\"kylin_dev\",\"type\":\"channel\"},\"chat\":{\"id\":-1001158947417,\"title\":\"dev_channel\",\"username\":\"kylin_dev\",\"type\":\"channel\"},\"date\":1625375989,\"text\":\"Yo what uppppppp\"}}'"
      ]
     },
     "execution_count": 4,
     "metadata": {},
     "output_type": "execute_result"
    }
   ],
   "source": [
    "# Send Message to channel\n",
    "response = requests.post(f\"https://api.telegram.org/bot{TOKEN}/sendMessage\", data={\"chat_id\":DEV_CHANNEL_ID, \"text\":\"Yo what uppppppp\"}) \n",
    "response.text\n",
    "# pprint(json.loads(response.text))"
   ]
  },
  {
   "cell_type": "code",
   "execution_count": 10,
   "metadata": {},
   "outputs": [
    {
     "name": "stdout",
     "output_type": "stream",
     "text": [
      "{'ok': True,\n",
      " 'result': [{'inline_query': {'chat_type': 'sender',\n",
      "                              'from': {'first_name': 'Logan',\n",
      "                                       'id': 1603827921,\n",
      "                                       'is_bot': False,\n",
      "                                       'language_code': 'en',\n",
      "                                       'last_name': 'Bonsignore',\n",
      "                                       'username': 'loganbon'},\n",
      "                              'id': '6888388470665703561',\n",
      "                              'offset': '',\n",
      "                              'query': 'kyl_price ddc'},\n",
      "             'update_id': 496200430}]}\n"
     ]
    }
   ],
   "source": [
    "# Get updates\n",
    "response = requests.post(f\"https://api.telegram.org/bot{TOKEN}/getUpdates\", data={\"limit\":10})\n",
    "response = json.loads(response.text)\n",
    "pprint(response)"
   ]
  },
  {
   "cell_type": "code",
   "execution_count": 40,
   "metadata": {},
   "outputs": [
    {
     "name": "stdout",
     "output_type": "stream",
     "text": [
      "{'ok': True,\n",
      " 'result': {'id': -1001158947417,\n",
      "            'invite_link': 'https://t.me/joinchat/zOCT9vLquvdjNGYx',\n",
      "            'title': 'dev_channel',\n",
      "            'type': 'channel',\n",
      "            'username': 'kylin_dev'}}\n"
     ]
    }
   ],
   "source": [
    "# Get recent information about the chat\n",
    "response = requests.post(f\"https://api.telegram.org/bot{TOKEN}/getChat\", data={\"chat_id\":\"@kylin_dev\"})\n",
    "response = json.loads(response.text)\n",
    "pprint(response)"
   ]
  },
  {
   "cell_type": "code",
   "execution_count": null,
   "metadata": {},
   "outputs": [],
   "source": [
    "# Find coingecko token ID\n",
    "response = json.loads(requests.get('https://api.coingecko.com/api/v3/coins/list').text)\n",
    "token = [i for i in response if i[\"symbol\"] == split_query[0].lower()][0]\n",
    "# Get price\n",
    "response = json.loads(requests.get(f'https://api.coingecko.com/api/v3/simple/price?ids={token[\"id\"]}&vs_currencies={split_query[1]}').text)\n",
    "price = response[token[\"id\"]][split_query[1]]\n",
    "# Send message to user\n",
    "response = requests.post(f\"https://api.telegram.org/bot{TOKEN}/answerInlineQuery\", data={\"inline_query_id\":query_id, \"results\":[price]})"
   ]
  }
 ],
 "metadata": {
  "kernelspec": {
   "display_name": "Python 3",
   "language": "python",
   "name": "python3"
  },
  "language_info": {
   "codemirror_mode": {
    "name": "ipython",
    "version": 3
   },
   "file_extension": ".py",
   "mimetype": "text/x-python",
   "name": "python",
   "nbconvert_exporter": "python",
   "pygments_lexer": "ipython3",
   "version": "3.7.6"
  }
 },
 "nbformat": 4,
 "nbformat_minor": 4
}

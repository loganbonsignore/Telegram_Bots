{
 "cells": [
  {
   "cell_type": "code",
   "execution_count": 2,
   "metadata": {},
   "outputs": [],
   "source": [
    "import requests\n",
    "import json\n",
    "from pprint import pprint\n",
    "from config import TOKEN, DEV_CHANNEL_ID"
   ]
  },
  {
   "cell_type": "code",
   "execution_count": 3,
   "metadata": {},
   "outputs": [
    {
     "name": "stdout",
     "output_type": "stream",
     "text": [
      "{'ok': True,\n",
      " 'result': {'can_join_groups': True,\n",
      "            'can_read_all_group_messages': False,\n",
      "            'first_name': 'notification_bot',\n",
      "            'id': 1799270706,\n",
      "            'is_bot': True,\n",
      "            'supports_inline_queries': True,\n",
      "            'username': 'lsdkljfBot'}}\n"
     ]
    }
   ],
   "source": [
    "# https://api.telegram.org/bot<token>/METHOD_NAME\n",
    "\n",
    "# Get Bot parameters\n",
    "response = requests.post(f\"https://api.telegram.org/bot{TOKEN}/getMe\")\n",
    "pprint(json.loads(response.text))"
   ]
  },
  {
   "cell_type": "code",
   "execution_count": 4,
   "metadata": {},
   "outputs": [
    {
     "data": {
      "text/plain": [
       "'{\"ok\":true,\"result\":{\"message_id\":85,\"sender_chat\":{\"id\":-1001158947417,\"title\":\"dev_channel\",\"username\":\"kylin_dev\",\"type\":\"channel\"},\"chat\":{\"id\":-1001158947417,\"title\":\"dev_channel\",\"username\":\"kylin_dev\",\"type\":\"channel\"},\"date\":1625375989,\"text\":\"Yo what uppppppp\"}}'"
      ]
     },
     "execution_count": 4,
     "metadata": {},
     "output_type": "execute_result"
    }
   ],
   "source": [
    "# Send Message to channel\n",
    "response = requests.post(f\"https://api.telegram.org/bot{TOKEN}/sendMessage\", data={\"chat_id\":DEV_CHANNEL_ID, \"text\":\"Yo what uppppppp\"}) \n",
    "response.text\n",
    "# pprint(json.loads(response.text))"
   ]
  },
  {
   "cell_type": "code",
   "execution_count": 6,
   "metadata": {},
   "outputs": [
    {
     "name": "stdout",
     "output_type": "stream",
     "text": [
      "{'ok': True,\n",
      " 'result': [{'inline_query': {'chat_type': 'sender',\n",
      "                              'from': {'first_name': 'Logan',\n",
      "                                       'id': 1603827921,\n",
      "                                       'is_bot': False,\n",
      "                                       'language_code': 'en',\n",
      "                                       'last_name': 'Bonsignore',\n",
      "                                       'username': 'loganbon'},\n",
      "                              'id': '6888388470814504117',\n",
      "                              'offset': '',\n",
      "                              'query': ''},\n",
      "             'update_id': 496200478},\n",
      "            {'inline_query': {'chat_type': 'sender',\n",
      "                              'from': {'first_name': 'Logan',\n",
      "                                       'id': 1603827921,\n",
      "                                       'is_bot': False,\n",
      "                                       'language_code': 'en',\n",
      "                                       'last_name': 'Bonsignore',\n",
      "                                       'username': 'loganbon'},\n",
      "                              'id': '6888388472836398451',\n",
      "                              'offset': '',\n",
      "                              'query': 'kyl'},\n",
      "             'update_id': 496200479},\n",
      "            {'inline_query': {'chat_type': 'sender',\n",
      "                              'from': {'first_name': 'Logan',\n",
      "                                       'id': 1603827921,\n",
      "                                       'is_bot': False,\n",
      "                                       'language_code': 'en',\n",
      "                                       'last_name': 'Bonsignore',\n",
      "                                       'username': 'loganbon'},\n",
      "                              'id': '6888388471895444192',\n",
      "                              'offset': '',\n",
      "                              'query': 'kyl'},\n",
      "             'update_id': 496200480},\n",
      "            {'inline_query': {'chat_type': 'sender',\n",
      "                              'from': {'first_name': 'Logan',\n",
      "                                       'id': 1603827921,\n",
      "                                       'is_bot': False,\n",
      "                                       'language_code': 'en',\n",
      "                                       'last_name': 'Bonsignore',\n",
      "                                       'username': 'loganbon'},\n",
      "                              'id': '6888388472295170817',\n",
      "                              'offset': '',\n",
      "                              'query': 'kyl u'},\n",
      "             'update_id': 496200481},\n",
      "            {'inline_query': {'chat_type': 'sender',\n",
      "                              'from': {'first_name': 'Logan',\n",
      "                                       'id': 1603827921,\n",
      "                                       'is_bot': False,\n",
      "                                       'language_code': 'en',\n",
      "                                       'last_name': 'Bonsignore',\n",
      "                                       'username': 'loganbon'},\n",
      "                              'id': '6888388469569526594',\n",
      "                              'offset': '',\n",
      "                              'query': 'kyl used'},\n",
      "             'update_id': 496200482},\n",
      "            {'inline_query': {'chat_type': 'sender',\n",
      "                              'from': {'first_name': 'Logan',\n",
      "                                       'id': 1603827921,\n",
      "                                       'is_bot': False,\n",
      "                                       'language_code': 'en',\n",
      "                                       'last_name': 'Bonsignore',\n",
      "                                       'username': 'loganbon'},\n",
      "                              'id': '6888388472966849809',\n",
      "                              'offset': '',\n",
      "                              'query': 'kyl us'},\n",
      "             'update_id': 496200483},\n",
      "            {'inline_query': {'chat_type': 'sender',\n",
      "                              'from': {'first_name': 'Logan',\n",
      "                                       'id': 1603827921,\n",
      "                                       'is_bot': False,\n",
      "                                       'language_code': 'en',\n",
      "                                       'last_name': 'Bonsignore',\n",
      "                                       'username': 'loganbon'},\n",
      "                              'id': '6888388470206370103',\n",
      "                              'offset': '',\n",
      "                              'query': 'kyl usd'},\n",
      "             'update_id': 496200484}]}\n"
     ]
    }
   ],
   "source": [
    "# Get updates\n",
    "response = requests.post(f\"https://api.telegram.org/bot{TOKEN}/getUpdates\", data={\"limit\":10})\n",
    "response = json.loads(response.text)\n",
    "pprint(response)"
   ]
  },
  {
   "cell_type": "code",
   "execution_count": 5,
   "metadata": {},
   "outputs": [
    {
     "name": "stdout",
     "output_type": "stream",
     "text": [
      "{'ok': True,\n",
      " 'result': {'id': -1001158947417,\n",
      "            'invite_link': 'https://t.me/joinchat/zOCT9vLquvdjNGYx',\n",
      "            'title': 'dev_channel',\n",
      "            'type': 'channel',\n",
      "            'username': 'kylin_dev'}}\n"
     ]
    }
   ],
   "source": [
    "# Get recent information about the chat\n",
    "response = requests.post(f\"https://api.telegram.org/bot{TOKEN}/getChat\", data={\"chat_id\":\"@kylin_dev\"})\n",
    "response = json.loads(response.text)\n",
    "pprint(response)"
   ]
  },
  {
   "cell_type": "code",
   "execution_count": 12,
   "metadata": {},
   "outputs": [
    {
     "name": "stdout",
     "output_type": "stream",
     "text": [
      "Found Price: 0.206663\n"
     ]
    }
   ],
   "source": [
    "split_query_text = \"KYL usd price/\".split(\" \")\n",
    "if split_query_text[-1].strip().lower() == \"price/\":\n",
    "#     query_id = update['inline_query']['id']\n",
    "    # Find coingecko token ID\n",
    "    coingecko_response = json.loads(requests.get('https://api.coingecko.com/api/v3/coins/list').text)\n",
    "    token = [i for i in coingecko_response if i[\"symbol\"] == split_query_text[0].lower()][0]\n",
    "    # Get price\n",
    "    coingecko_response = json.loads(requests.get(f'https://api.coingecko.com/api/v3/simple/price?ids={token[\"id\"]}&vs_currencies={split_query_text[1].lower()}').text)\n",
    "    price = coingecko_response[token[\"id\"]][split_query_text[1].lower()]\n",
    "    print(f\"Found Price: {price}\") # Logging\n",
    "    # Send message to user\n",
    "#     mh.send_message(\"1603827921\", f\"The {split_query_text[0].capitalize()} price is {'${:,.2f}'.format(price)} {split_query_text[1]}.\")\n",
    "#     telegram_response = requests.post(f\"https://api.telegram.org/bot{TOKEN}/answerInlineQuery\", data={\"inline_query_id\":query_id, \"results\":[price]})\n",
    "#     print(telegram_response.text) # Logging"
   ]
  },
  {
   "cell_type": "code",
   "execution_count": 18,
   "metadata": {},
   "outputs": [],
   "source": [
    "def get_price(symbol:str, currency:str) -> str:\n",
    "    coingecko_response = json.loads(requests.get('https://api.coingecko.com/api/v3/coins/list').text)\n",
    "    token = [i for i in coingecko_response if i[\"symbol\"] == symbol.lower()][0]\n",
    "    coingecko_response = json.loads(requests.get(f'https://api.coingecko.com/api/v3/simple/price?ids={token[\"id\"]}&vs_currencies={currency.lower()}').text)\n",
    "    price = coingecko_response[token[\"id\"]][currency.lower()]\n",
    "    return price"
   ]
  },
  {
   "cell_type": "code",
   "execution_count": 19,
   "metadata": {},
   "outputs": [
    {
     "data": {
      "text/plain": [
       "0.19939"
      ]
     },
     "execution_count": 19,
     "metadata": {},
     "output_type": "execute_result"
    }
   ],
   "source": [
    "get_price(\"kyl\", \"usd\")"
   ]
  },
  {
   "cell_type": "code",
   "execution_count": null,
   "metadata": {},
   "outputs": [],
   "source": []
  }
 ],
 "metadata": {
  "kernelspec": {
   "display_name": "Python 3",
   "language": "python",
   "name": "python3"
  },
  "language_info": {
   "codemirror_mode": {
    "name": "ipython",
    "version": 3
   },
   "file_extension": ".py",
   "mimetype": "text/x-python",
   "name": "python",
   "nbconvert_exporter": "python",
   "pygments_lexer": "ipython3",
   "version": "3.7.6"
  }
 },
 "nbformat": 4,
 "nbformat_minor": 4
}
